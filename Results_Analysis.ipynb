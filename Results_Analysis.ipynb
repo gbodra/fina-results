{
 "cells": [
  {
   "cell_type": "markdown",
   "id": "884499a0-bb9f-4c87-a189-9d8809b4c596",
   "metadata": {},
   "source": [
    "# FINA - Results Exploration"
   ]
  },
  {
   "cell_type": "code",
   "execution_count": 19,
   "id": "e6fed372-8ffb-49c6-862a-33a43ba1bb99",
   "metadata": {},
   "outputs": [],
   "source": [
    "import numpy as np\n",
    "import pandas as pd\n",
    "import seaborn as sns\n",
    "from tqdm import tqdm\n",
    "from scipy import stats\n",
    "from datetime import datetime\n",
    "import matplotlib.pyplot as plt\n",
    "from sklearn import preprocessing\n",
    "from sklearn.tree import DecisionTreeRegressor\n",
    "from sklearn.linear_model import LinearRegression, BayesianRidge\n",
    "\n",
    "tqdm.pandas()\n",
    "sns.set(rc={'figure.figsize':(13,10)})\n",
    "\n",
    "def encode_categories(df, cols_to_encode):\n",
    "    le = preprocessing.LabelEncoder()\n",
    "    for col in cols_to_encode:\n",
    "        df[col] = le.fit_transform(df[col])\n",
    "    return df"
   ]
  },
  {
   "cell_type": "code",
   "execution_count": 20,
   "id": "cc099f6f-9810-460a-819e-c65650989a7b",
   "metadata": {},
   "outputs": [
    {
     "name": "stdout",
     "output_type": "stream",
     "text": [
      "CPU times: user 2.66 s, sys: 269 ms, total: 2.93 s\n",
      "Wall time: 2.41 s\n"
     ]
    },
    {
     "data": {
      "text/html": [
       "<div>\n",
       "<style scoped>\n",
       "    .dataframe tbody tr th:only-of-type {\n",
       "        vertical-align: middle;\n",
       "    }\n",
       "\n",
       "    .dataframe tbody tr th {\n",
       "        vertical-align: top;\n",
       "    }\n",
       "\n",
       "    .dataframe thead th {\n",
       "        text-align: right;\n",
       "    }\n",
       "</style>\n",
       "<table border=\"1\" class=\"dataframe\">\n",
       "  <thead>\n",
       "    <tr style=\"text-align: right;\">\n",
       "      <th></th>\n",
       "      <th>DisciplineName</th>\n",
       "      <th>EventName</th>\n",
       "      <th>EventResultUtcDateTime</th>\n",
       "      <th>Gender</th>\n",
       "      <th>SportCode</th>\n",
       "      <th>Date</th>\n",
       "      <th>IsSummary</th>\n",
       "      <th>Order</th>\n",
       "      <th>PhaseName</th>\n",
       "      <th>AthleteResultAge</th>\n",
       "      <th>...</th>\n",
       "      <th>Qualified</th>\n",
       "      <th>RT</th>\n",
       "      <th>Rank</th>\n",
       "      <th>RecordType</th>\n",
       "      <th>ResultId</th>\n",
       "      <th>Splits</th>\n",
       "      <th>Time</th>\n",
       "      <th>TimeBehind</th>\n",
       "      <th>Time_Seconds</th>\n",
       "      <th>Year</th>\n",
       "    </tr>\n",
       "  </thead>\n",
       "  <tbody>\n",
       "    <tr>\n",
       "      <th>0</th>\n",
       "      <td>Women 100m Freestyle</td>\n",
       "      <td>Olympic Games Paris 1924</td>\n",
       "      <td>1924-07-20T13:00:00</td>\n",
       "      <td>Women</td>\n",
       "      <td>SW</td>\n",
       "      <td>1924-07-20</td>\n",
       "      <td>False</td>\n",
       "      <td>NaN</td>\n",
       "      <td>Finals</td>\n",
       "      <td>17.0</td>\n",
       "      <td>...</td>\n",
       "      <td>None</td>\n",
       "      <td>None</td>\n",
       "      <td>1.0</td>\n",
       "      <td>None</td>\n",
       "      <td>R1165798</td>\n",
       "      <td>[]</td>\n",
       "      <td>1:12.40</td>\n",
       "      <td>None</td>\n",
       "      <td>72.4</td>\n",
       "      <td>1924.0</td>\n",
       "    </tr>\n",
       "    <tr>\n",
       "      <th>1</th>\n",
       "      <td>Women 100m Freestyle</td>\n",
       "      <td>Olympic Games Paris 1924</td>\n",
       "      <td>1924-07-20T13:00:00</td>\n",
       "      <td>Women</td>\n",
       "      <td>SW</td>\n",
       "      <td>1924-07-20</td>\n",
       "      <td>False</td>\n",
       "      <td>NaN</td>\n",
       "      <td>Finals</td>\n",
       "      <td>18.0</td>\n",
       "      <td>...</td>\n",
       "      <td>None</td>\n",
       "      <td>None</td>\n",
       "      <td>2.0</td>\n",
       "      <td>None</td>\n",
       "      <td>R1165764</td>\n",
       "      <td>[]</td>\n",
       "      <td>1:12.80</td>\n",
       "      <td>00.40</td>\n",
       "      <td>72.8</td>\n",
       "      <td>1924.0</td>\n",
       "    </tr>\n",
       "    <tr>\n",
       "      <th>2</th>\n",
       "      <td>Women 100m Freestyle</td>\n",
       "      <td>Olympic Games Paris 1924</td>\n",
       "      <td>1924-07-20T13:00:00</td>\n",
       "      <td>Women</td>\n",
       "      <td>SW</td>\n",
       "      <td>1924-07-20</td>\n",
       "      <td>False</td>\n",
       "      <td>NaN</td>\n",
       "      <td>Finals</td>\n",
       "      <td>18.0</td>\n",
       "      <td>...</td>\n",
       "      <td>None</td>\n",
       "      <td>None</td>\n",
       "      <td>3.0</td>\n",
       "      <td>None</td>\n",
       "      <td>R1165709</td>\n",
       "      <td>[]</td>\n",
       "      <td>1:14.20</td>\n",
       "      <td>01.80</td>\n",
       "      <td>74.2</td>\n",
       "      <td>1924.0</td>\n",
       "    </tr>\n",
       "    <tr>\n",
       "      <th>3</th>\n",
       "      <td>Women 100m Freestyle</td>\n",
       "      <td>Olympic Games Paris 1924</td>\n",
       "      <td>1924-07-20T13:00:00</td>\n",
       "      <td>Women</td>\n",
       "      <td>SW</td>\n",
       "      <td>1924-07-20</td>\n",
       "      <td>False</td>\n",
       "      <td>NaN</td>\n",
       "      <td>Finals</td>\n",
       "      <td>24.0</td>\n",
       "      <td>...</td>\n",
       "      <td>None</td>\n",
       "      <td>None</td>\n",
       "      <td>4.0</td>\n",
       "      <td>None</td>\n",
       "      <td>R1165829</td>\n",
       "      <td>[]</td>\n",
       "      <td>1:15.40</td>\n",
       "      <td>03.00</td>\n",
       "      <td>75.4</td>\n",
       "      <td>1924.0</td>\n",
       "    </tr>\n",
       "    <tr>\n",
       "      <th>4</th>\n",
       "      <td>Women 100m Freestyle</td>\n",
       "      <td>Olympic Games Paris 1924</td>\n",
       "      <td>1924-07-20T13:00:00</td>\n",
       "      <td>Women</td>\n",
       "      <td>SW</td>\n",
       "      <td>1924-07-20</td>\n",
       "      <td>False</td>\n",
       "      <td>NaN</td>\n",
       "      <td>Finals</td>\n",
       "      <td>17.0</td>\n",
       "      <td>...</td>\n",
       "      <td>None</td>\n",
       "      <td>None</td>\n",
       "      <td>5.0</td>\n",
       "      <td>None</td>\n",
       "      <td>R1165001</td>\n",
       "      <td>[]</td>\n",
       "      <td>1:20.80</td>\n",
       "      <td>08.40</td>\n",
       "      <td>80.8</td>\n",
       "      <td>1924.0</td>\n",
       "    </tr>\n",
       "  </tbody>\n",
       "</table>\n",
       "<p>5 rows × 29 columns</p>\n",
       "</div>"
      ],
      "text/plain": [
       "         DisciplineName                 EventName EventResultUtcDateTime  \\\n",
       "0  Women 100m Freestyle  Olympic Games Paris 1924    1924-07-20T13:00:00   \n",
       "1  Women 100m Freestyle  Olympic Games Paris 1924    1924-07-20T13:00:00   \n",
       "2  Women 100m Freestyle  Olympic Games Paris 1924    1924-07-20T13:00:00   \n",
       "3  Women 100m Freestyle  Olympic Games Paris 1924    1924-07-20T13:00:00   \n",
       "4  Women 100m Freestyle  Olympic Games Paris 1924    1924-07-20T13:00:00   \n",
       "\n",
       "  Gender SportCode        Date IsSummary  Order PhaseName  AthleteResultAge  \\\n",
       "0  Women        SW  1924-07-20     False    NaN    Finals              17.0   \n",
       "1  Women        SW  1924-07-20     False    NaN    Finals              18.0   \n",
       "2  Women        SW  1924-07-20     False    NaN    Finals              18.0   \n",
       "3  Women        SW  1924-07-20     False    NaN    Finals              24.0   \n",
       "4  Women        SW  1924-07-20     False    NaN    Finals              17.0   \n",
       "\n",
       "   ... Qualified    RT  Rank  RecordType  ResultId Splits     Time TimeBehind  \\\n",
       "0  ...      None  None   1.0        None  R1165798     []  1:12.40       None   \n",
       "1  ...      None  None   2.0        None  R1165764     []  1:12.80      00.40   \n",
       "2  ...      None  None   3.0        None  R1165709     []  1:14.20      01.80   \n",
       "3  ...      None  None   4.0        None  R1165829     []  1:15.40      03.00   \n",
       "4  ...      None  None   5.0        None  R1165001     []  1:20.80      08.40   \n",
       "\n",
       "   Time_Seconds    Year  \n",
       "0          72.4  1924.0  \n",
       "1          72.8  1924.0  \n",
       "2          74.2  1924.0  \n",
       "3          75.4  1924.0  \n",
       "4          80.8  1924.0  \n",
       "\n",
       "[5 rows x 29 columns]"
      ]
     },
     "execution_count": 20,
     "metadata": {},
     "output_type": "execute_result"
    }
   ],
   "source": [
    "%%time\n",
    "results_df = pd.read_parquet('./data/results.parquet')\n",
    "results_df['Year'] = pd.DatetimeIndex(pd.to_datetime(results_df.Date, infer_datetime_format=True)).year\n",
    "results_df.head()"
   ]
  },
  {
   "cell_type": "code",
   "execution_count": 21,
   "id": "ffc5bd3a-d160-4386-9e24-0787bc654e43",
   "metadata": {},
   "outputs": [
    {
     "data": {
      "text/html": [
       "<div>\n",
       "<style scoped>\n",
       "    .dataframe tbody tr th:only-of-type {\n",
       "        vertical-align: middle;\n",
       "    }\n",
       "\n",
       "    .dataframe tbody tr th {\n",
       "        vertical-align: top;\n",
       "    }\n",
       "\n",
       "    .dataframe thead th {\n",
       "        text-align: right;\n",
       "    }\n",
       "</style>\n",
       "<table border=\"1\" class=\"dataframe\">\n",
       "  <thead>\n",
       "    <tr style=\"text-align: right;\">\n",
       "      <th></th>\n",
       "      <th>Order</th>\n",
       "      <th>AthleteResultAge</th>\n",
       "      <th>HeatRank</th>\n",
       "      <th>Lane</th>\n",
       "      <th>Points</th>\n",
       "      <th>Rank</th>\n",
       "      <th>Time_Seconds</th>\n",
       "      <th>Year</th>\n",
       "    </tr>\n",
       "  </thead>\n",
       "  <tbody>\n",
       "    <tr>\n",
       "      <th>Order</th>\n",
       "      <td>1.000000</td>\n",
       "      <td>0.114023</td>\n",
       "      <td>-0.119529</td>\n",
       "      <td>-0.013967</td>\n",
       "      <td>0.253551</td>\n",
       "      <td>-0.360664</td>\n",
       "      <td>-0.038575</td>\n",
       "      <td>0.326571</td>\n",
       "    </tr>\n",
       "    <tr>\n",
       "      <th>AthleteResultAge</th>\n",
       "      <td>0.114023</td>\n",
       "      <td>1.000000</td>\n",
       "      <td>-0.141297</td>\n",
       "      <td>-0.021569</td>\n",
       "      <td>0.475234</td>\n",
       "      <td>-0.206065</td>\n",
       "      <td>-0.120449</td>\n",
       "      <td>0.046611</td>\n",
       "    </tr>\n",
       "    <tr>\n",
       "      <th>HeatRank</th>\n",
       "      <td>-0.119529</td>\n",
       "      <td>-0.141297</td>\n",
       "      <td>1.000000</td>\n",
       "      <td>0.109077</td>\n",
       "      <td>-0.329509</td>\n",
       "      <td>0.511114</td>\n",
       "      <td>0.248576</td>\n",
       "      <td>0.019341</td>\n",
       "    </tr>\n",
       "    <tr>\n",
       "      <th>Lane</th>\n",
       "      <td>-0.013967</td>\n",
       "      <td>-0.021569</td>\n",
       "      <td>0.109077</td>\n",
       "      <td>1.000000</td>\n",
       "      <td>-0.064484</td>\n",
       "      <td>0.065826</td>\n",
       "      <td>0.032103</td>\n",
       "      <td>0.023553</td>\n",
       "    </tr>\n",
       "    <tr>\n",
       "      <th>Points</th>\n",
       "      <td>0.253551</td>\n",
       "      <td>0.475234</td>\n",
       "      <td>-0.329509</td>\n",
       "      <td>-0.064484</td>\n",
       "      <td>1.000000</td>\n",
       "      <td>-0.541027</td>\n",
       "      <td>-0.862265</td>\n",
       "      <td>-0.156589</td>\n",
       "    </tr>\n",
       "    <tr>\n",
       "      <th>Rank</th>\n",
       "      <td>-0.360664</td>\n",
       "      <td>-0.206065</td>\n",
       "      <td>0.511114</td>\n",
       "      <td>0.065826</td>\n",
       "      <td>-0.541027</td>\n",
       "      <td>1.000000</td>\n",
       "      <td>0.428219</td>\n",
       "      <td>0.061213</td>\n",
       "    </tr>\n",
       "    <tr>\n",
       "      <th>Time_Seconds</th>\n",
       "      <td>-0.038575</td>\n",
       "      <td>-0.120449</td>\n",
       "      <td>0.248576</td>\n",
       "      <td>0.032103</td>\n",
       "      <td>-0.862265</td>\n",
       "      <td>0.428219</td>\n",
       "      <td>1.000000</td>\n",
       "      <td>-0.087037</td>\n",
       "    </tr>\n",
       "    <tr>\n",
       "      <th>Year</th>\n",
       "      <td>0.326571</td>\n",
       "      <td>0.046611</td>\n",
       "      <td>0.019341</td>\n",
       "      <td>0.023553</td>\n",
       "      <td>-0.156589</td>\n",
       "      <td>0.061213</td>\n",
       "      <td>-0.087037</td>\n",
       "      <td>1.000000</td>\n",
       "    </tr>\n",
       "  </tbody>\n",
       "</table>\n",
       "</div>"
      ],
      "text/plain": [
       "                     Order  AthleteResultAge  HeatRank      Lane    Points  \\\n",
       "Order             1.000000          0.114023 -0.119529 -0.013967  0.253551   \n",
       "AthleteResultAge  0.114023          1.000000 -0.141297 -0.021569  0.475234   \n",
       "HeatRank         -0.119529         -0.141297  1.000000  0.109077 -0.329509   \n",
       "Lane             -0.013967         -0.021569  0.109077  1.000000 -0.064484   \n",
       "Points            0.253551          0.475234 -0.329509 -0.064484  1.000000   \n",
       "Rank             -0.360664         -0.206065  0.511114  0.065826 -0.541027   \n",
       "Time_Seconds     -0.038575         -0.120449  0.248576  0.032103 -0.862265   \n",
       "Year              0.326571          0.046611  0.019341  0.023553 -0.156589   \n",
       "\n",
       "                      Rank  Time_Seconds      Year  \n",
       "Order            -0.360664     -0.038575  0.326571  \n",
       "AthleteResultAge -0.206065     -0.120449  0.046611  \n",
       "HeatRank          0.511114      0.248576  0.019341  \n",
       "Lane              0.065826      0.032103  0.023553  \n",
       "Points           -0.541027     -0.862265 -0.156589  \n",
       "Rank              1.000000      0.428219  0.061213  \n",
       "Time_Seconds      0.428219      1.000000 -0.087037  \n",
       "Year              0.061213     -0.087037  1.000000  "
      ]
     },
     "execution_count": 21,
     "metadata": {},
     "output_type": "execute_result"
    }
   ],
   "source": [
    "results_df = results_df.loc[ (results_df.DisciplineName == 'Men 200m Butterfly') & (results_df.IsSummary == False)]\n",
    "results_df.corr()"
   ]
  },
  {
   "cell_type": "code",
   "execution_count": 22,
   "id": "a7425b77-4470-4780-98b5-5fb1a341f823",
   "metadata": {},
   "outputs": [
    {
     "data": {
      "text/html": [
       "<div>\n",
       "<style scoped>\n",
       "    .dataframe tbody tr th:only-of-type {\n",
       "        vertical-align: middle;\n",
       "    }\n",
       "\n",
       "    .dataframe tbody tr th {\n",
       "        vertical-align: top;\n",
       "    }\n",
       "\n",
       "    .dataframe thead th {\n",
       "        text-align: right;\n",
       "    }\n",
       "</style>\n",
       "<table border=\"1\" class=\"dataframe\">\n",
       "  <thead>\n",
       "    <tr style=\"text-align: right;\">\n",
       "      <th></th>\n",
       "      <th>EventName</th>\n",
       "      <th>AthleteResultAge</th>\n",
       "      <th>HeatRank</th>\n",
       "      <th>Lane</th>\n",
       "      <th>Time_Seconds</th>\n",
       "      <th>Year</th>\n",
       "    </tr>\n",
       "  </thead>\n",
       "  <tbody>\n",
       "    <tr>\n",
       "      <th>5973</th>\n",
       "      <td>81</td>\n",
       "      <td>23.0</td>\n",
       "      <td>1.0</td>\n",
       "      <td>4.0</td>\n",
       "      <td>139.3</td>\n",
       "      <td>1956.0</td>\n",
       "    </tr>\n",
       "    <tr>\n",
       "      <th>5974</th>\n",
       "      <td>81</td>\n",
       "      <td>21.0</td>\n",
       "      <td>2.0</td>\n",
       "      <td>3.0</td>\n",
       "      <td>143.8</td>\n",
       "      <td>1956.0</td>\n",
       "    </tr>\n",
       "    <tr>\n",
       "      <th>5975</th>\n",
       "      <td>81</td>\n",
       "      <td>27.0</td>\n",
       "      <td>3.0</td>\n",
       "      <td>5.0</td>\n",
       "      <td>143.9</td>\n",
       "      <td>1956.0</td>\n",
       "    </tr>\n",
       "    <tr>\n",
       "      <th>5976</th>\n",
       "      <td>81</td>\n",
       "      <td>25.0</td>\n",
       "      <td>4.0</td>\n",
       "      <td>1.0</td>\n",
       "      <td>146.6</td>\n",
       "      <td>1956.0</td>\n",
       "    </tr>\n",
       "    <tr>\n",
       "      <th>5977</th>\n",
       "      <td>81</td>\n",
       "      <td>26.0</td>\n",
       "      <td>5.0</td>\n",
       "      <td>6.0</td>\n",
       "      <td>147.2</td>\n",
       "      <td>1956.0</td>\n",
       "    </tr>\n",
       "    <tr>\n",
       "      <th>...</th>\n",
       "      <td>...</td>\n",
       "      <td>...</td>\n",
       "      <td>...</td>\n",
       "      <td>...</td>\n",
       "      <td>...</td>\n",
       "      <td>...</td>\n",
       "    </tr>\n",
       "    <tr>\n",
       "      <th>465689</th>\n",
       "      <td>64</td>\n",
       "      <td>0.0</td>\n",
       "      <td>0.0</td>\n",
       "      <td>0.0</td>\n",
       "      <td>0.0</td>\n",
       "      <td>2021.0</td>\n",
       "    </tr>\n",
       "    <tr>\n",
       "      <th>465781</th>\n",
       "      <td>64</td>\n",
       "      <td>0.0</td>\n",
       "      <td>0.0</td>\n",
       "      <td>0.0</td>\n",
       "      <td>0.0</td>\n",
       "      <td>2021.0</td>\n",
       "    </tr>\n",
       "    <tr>\n",
       "      <th>465782</th>\n",
       "      <td>64</td>\n",
       "      <td>0.0</td>\n",
       "      <td>0.0</td>\n",
       "      <td>0.0</td>\n",
       "      <td>0.0</td>\n",
       "      <td>2021.0</td>\n",
       "    </tr>\n",
       "    <tr>\n",
       "      <th>465880</th>\n",
       "      <td>11</td>\n",
       "      <td>0.0</td>\n",
       "      <td>0.0</td>\n",
       "      <td>0.0</td>\n",
       "      <td>0.0</td>\n",
       "      <td>2021.0</td>\n",
       "    </tr>\n",
       "    <tr>\n",
       "      <th>465881</th>\n",
       "      <td>11</td>\n",
       "      <td>0.0</td>\n",
       "      <td>0.0</td>\n",
       "      <td>0.0</td>\n",
       "      <td>0.0</td>\n",
       "      <td>2021.0</td>\n",
       "    </tr>\n",
       "  </tbody>\n",
       "</table>\n",
       "<p>7266 rows × 6 columns</p>\n",
       "</div>"
      ],
      "text/plain": [
       "        EventName  AthleteResultAge  HeatRank  Lane  Time_Seconds    Year\n",
       "5973           81              23.0       1.0   4.0         139.3  1956.0\n",
       "5974           81              21.0       2.0   3.0         143.8  1956.0\n",
       "5975           81              27.0       3.0   5.0         143.9  1956.0\n",
       "5976           81              25.0       4.0   1.0         146.6  1956.0\n",
       "5977           81              26.0       5.0   6.0         147.2  1956.0\n",
       "...           ...               ...       ...   ...           ...     ...\n",
       "465689         64               0.0       0.0   0.0           0.0  2021.0\n",
       "465781         64               0.0       0.0   0.0           0.0  2021.0\n",
       "465782         64               0.0       0.0   0.0           0.0  2021.0\n",
       "465880         11               0.0       0.0   0.0           0.0  2021.0\n",
       "465881         11               0.0       0.0   0.0           0.0  2021.0\n",
       "\n",
       "[7266 rows x 6 columns]"
      ]
     },
     "execution_count": 22,
     "metadata": {},
     "output_type": "execute_result"
    }
   ],
   "source": [
    "cols_to_keep = ['EventName', 'HeatRank', 'AthleteResultAge', 'Time_Seconds', 'Year', 'Lane']\n",
    "cols_remove = [col for col in results_df.columns if col not in cols_to_keep]\n",
    "results_df = results_df.drop(columns=cols_remove)\n",
    "results_df = encode_categories(results_df, ['EventName'])\n",
    "results_df.fillna(0, inplace=True)\n",
    "results_df.dropna(inplace=True)\n",
    "results_df"
   ]
  },
  {
   "cell_type": "code",
   "execution_count": 23,
   "id": "aef370ab-28fa-48ee-88c2-b680a4afb5c1",
   "metadata": {},
   "outputs": [
    {
     "data": {
      "text/html": [
       "<div>\n",
       "<style scoped>\n",
       "    .dataframe tbody tr th:only-of-type {\n",
       "        vertical-align: middle;\n",
       "    }\n",
       "\n",
       "    .dataframe tbody tr th {\n",
       "        vertical-align: top;\n",
       "    }\n",
       "\n",
       "    .dataframe thead th {\n",
       "        text-align: right;\n",
       "    }\n",
       "</style>\n",
       "<table border=\"1\" class=\"dataframe\">\n",
       "  <thead>\n",
       "    <tr style=\"text-align: right;\">\n",
       "      <th></th>\n",
       "      <th>EventName</th>\n",
       "      <th>AthleteResultAge</th>\n",
       "      <th>HeatRank</th>\n",
       "      <th>Lane</th>\n",
       "      <th>Time_Seconds</th>\n",
       "      <th>Year</th>\n",
       "    </tr>\n",
       "  </thead>\n",
       "  <tbody>\n",
       "    <tr>\n",
       "      <th>EventName</th>\n",
       "      <td>1.000000</td>\n",
       "      <td>0.037749</td>\n",
       "      <td>-0.208498</td>\n",
       "      <td>0.089607</td>\n",
       "      <td>0.028657</td>\n",
       "      <td>-0.027315</td>\n",
       "    </tr>\n",
       "    <tr>\n",
       "      <th>AthleteResultAge</th>\n",
       "      <td>0.037749</td>\n",
       "      <td>1.000000</td>\n",
       "      <td>-0.092171</td>\n",
       "      <td>0.117914</td>\n",
       "      <td>-0.058489</td>\n",
       "      <td>0.106824</td>\n",
       "    </tr>\n",
       "    <tr>\n",
       "      <th>HeatRank</th>\n",
       "      <td>-0.208498</td>\n",
       "      <td>-0.092171</td>\n",
       "      <td>1.000000</td>\n",
       "      <td>-0.218353</td>\n",
       "      <td>0.228473</td>\n",
       "      <td>0.010241</td>\n",
       "    </tr>\n",
       "    <tr>\n",
       "      <th>Lane</th>\n",
       "      <td>0.089607</td>\n",
       "      <td>0.117914</td>\n",
       "      <td>-0.218353</td>\n",
       "      <td>1.000000</td>\n",
       "      <td>0.021966</td>\n",
       "      <td>0.074958</td>\n",
       "    </tr>\n",
       "    <tr>\n",
       "      <th>Time_Seconds</th>\n",
       "      <td>0.028657</td>\n",
       "      <td>-0.058489</td>\n",
       "      <td>0.228473</td>\n",
       "      <td>0.021966</td>\n",
       "      <td>1.000000</td>\n",
       "      <td>0.166096</td>\n",
       "    </tr>\n",
       "    <tr>\n",
       "      <th>Year</th>\n",
       "      <td>-0.027315</td>\n",
       "      <td>0.106824</td>\n",
       "      <td>0.010241</td>\n",
       "      <td>0.074958</td>\n",
       "      <td>0.166096</td>\n",
       "      <td>1.000000</td>\n",
       "    </tr>\n",
       "  </tbody>\n",
       "</table>\n",
       "</div>"
      ],
      "text/plain": [
       "                  EventName  AthleteResultAge  HeatRank      Lane  \\\n",
       "EventName          1.000000          0.037749 -0.208498  0.089607   \n",
       "AthleteResultAge   0.037749          1.000000 -0.092171  0.117914   \n",
       "HeatRank          -0.208498         -0.092171  1.000000 -0.218353   \n",
       "Lane               0.089607          0.117914 -0.218353  1.000000   \n",
       "Time_Seconds       0.028657         -0.058489  0.228473  0.021966   \n",
       "Year              -0.027315          0.106824  0.010241  0.074958   \n",
       "\n",
       "                  Time_Seconds      Year  \n",
       "EventName             0.028657 -0.027315  \n",
       "AthleteResultAge     -0.058489  0.106824  \n",
       "HeatRank              0.228473  0.010241  \n",
       "Lane                  0.021966  0.074958  \n",
       "Time_Seconds          1.000000  0.166096  \n",
       "Year                  0.166096  1.000000  "
      ]
     },
     "execution_count": 23,
     "metadata": {},
     "output_type": "execute_result"
    }
   ],
   "source": [
    "results_df.corr()"
   ]
  },
  {
   "cell_type": "code",
   "execution_count": 24,
   "id": "e2b7f322-cc0f-4454-98e0-b9d573fcc6eb",
   "metadata": {},
   "outputs": [
    {
     "data": {
      "text/plain": [
       "<matplotlib.lines.Line2D at 0x7fdc2fb3c0a0>"
      ]
     },
     "execution_count": 24,
     "metadata": {},
     "output_type": "execute_result"
    },
    {
     "data": {
      "image/png": "[encoded data removed]",
      "text/plain": [
       "<Figure size 1080x360 with 1 Axes>"
      ]
     },
     "metadata": {},
     "output_type": "display_data"
    }
   ],
   "source": [
    "g = sns.displot(data=results_df, x='Time_Seconds', palette=\"crest\", fill=True,alpha=.7, linewidth=0,)\n",
    "g.fig.set_figwidth(15)\n",
    "g.fig.set_figheight(5)\n",
    "mean = results_df['Time_Seconds'].mean()\n",
    "plt.axvline(mean, color='r')"
   ]
  },
  {
   "cell_type": "code",
   "execution_count": 25,
   "id": "b72bb0ed-a850-40ac-b871-086a1ad9c1a6",
   "metadata": {},
   "outputs": [
    {
     "data": {
      "text/plain": [
       "<matplotlib.lines.Line2D at 0x7fdc2faf7fd0>"
      ]
     },
     "execution_count": 25,
     "metadata": {},
     "output_type": "execute_result"
    },
    {
     "data": {
      "image/png": "[encoded data removed]",
      "text/plain": [
       "<Figure size 1080x360 with 1 Axes>"
      ]
     },
     "metadata": {},
     "output_type": "display_data"
    }
   ],
   "source": [
    "results_df_no_outliers = results_df[(np.abs(stats.zscore(results_df['Time_Seconds'])) < 3)]\n",
    "\n",
    "g = sns.displot(data=results_df_no_outliers, x='Time_Seconds', palette=\"crest\", fill=True,alpha=.7, linewidth=0,)\n",
    "g.fig.set_figwidth(15)\n",
    "g.fig.set_figheight(5)\n",
    "mean = results_df_no_outliers['Time_Seconds'].mean()\n",
    "plt.axvline(mean, color='r')"
   ]
  },
  {
   "cell_type": "code",
   "execution_count": 26,
   "id": "84144fb3-c895-4ab8-8a34-4cf35910653d",
   "metadata": {},
   "outputs": [],
   "source": [
    "y = results_df['Time_Seconds']\n",
    "X = results_df.drop(columns=['Time_Seconds'])"
   ]
  },
  {
   "cell_type": "code",
   "execution_count": 27,
   "id": "d0a1a53a-5628-448d-9c52-ad86589b90e0",
   "metadata": {},
   "outputs": [
    {
     "data": {
      "text/plain": [
       "0.09299236643977116"
      ]
     },
     "execution_count": 27,
     "metadata": {},
     "output_type": "execute_result"
    }
   ],
   "source": [
    "clf = LinearRegression().fit(X, y)\n",
    "clf.score(X, y)"
   ]
  },
  {
   "cell_type": "code",
   "execution_count": 29,
   "id": "a12e51f7-74db-4b21-b7a1-f6e501e7fd0d",
   "metadata": {},
   "outputs": [
    {
     "name": "stderr",
     "output_type": "stream",
     "text": [
      "/home/gbodra/.local/lib/python3.8/site-packages/sklearn/base.py:441: UserWarning: X does not have valid feature names, but LinearRegression was fitted with feature names\n",
      "  warnings.warn(\n"
     ]
    },
    {
     "data": {
      "text/plain": [
       "array([112.78202478])"
      ]
     },
     "execution_count": 29,
     "metadata": {},
     "output_type": "execute_result"
    }
   ],
   "source": [
    "clf.predict(np.array([[1, 18, 4, 4, 1985]]))"
   ]
  },
  {
   "cell_type": "code",
   "execution_count": 30,
   "id": "a00e19d4-a4b4-44dc-8c5b-0c4eecf06859",
   "metadata": {},
   "outputs": [
    {
     "data": {
      "text/plain": [
       "0.995725484298757"
      ]
     },
     "execution_count": 30,
     "metadata": {},
     "output_type": "execute_result"
    }
   ],
   "source": [
    "regressor = DecisionTreeRegressor(random_state=0).fit(X, y)\n",
    "regressor.score(X, y)"
   ]
  },
  {
   "cell_type": "code",
   "execution_count": 31,
   "id": "389951ae-ad21-415e-b4bd-451cd380bcb5",
   "metadata": {},
   "outputs": [
    {
     "name": "stderr",
     "output_type": "stream",
     "text": [
      "/home/gbodra/.local/lib/python3.8/site-packages/sklearn/base.py:441: UserWarning: X does not have valid feature names, but DecisionTreeRegressor was fitted with feature names\n",
      "  warnings.warn(\n"
     ]
    },
    {
     "data": {
      "text/plain": [
       "array([119.94])"
      ]
     },
     "execution_count": 31,
     "metadata": {},
     "output_type": "execute_result"
    }
   ],
   "source": [
    "regressor.predict(np.array([[1, 18, 4, 4, 1985]]))"
   ]
  },
  {
   "cell_type": "code",
   "execution_count": 32,
   "id": "d9fab693-b735-4eda-b20f-8c591f98ba80",
   "metadata": {},
   "outputs": [
    {
     "data": {
      "text/plain": [
       "0.09298106279097074"
      ]
     },
     "execution_count": 32,
     "metadata": {},
     "output_type": "execute_result"
    }
   ],
   "source": [
    "bayes_regressor = BayesianRidge(compute_score=True).fit(X, y)\n",
    "bayes_regressor.score(X, y)"
   ]
  },
  {
   "cell_type": "code",
   "execution_count": 33,
   "id": "09f16dbc-43b0-4ebb-aa36-cd636017a474",
   "metadata": {},
   "outputs": [
    {
     "name": "stderr",
     "output_type": "stream",
     "text": [
      "/home/gbodra/.local/lib/python3.8/site-packages/sklearn/base.py:441: UserWarning: X does not have valid feature names, but BayesianRidge was fitted with feature names\n",
      "  warnings.warn(\n"
     ]
    },
    {
     "data": {
      "text/plain": [
       "array([112.78687232])"
      ]
     },
     "execution_count": 33,
     "metadata": {},
     "output_type": "execute_result"
    }
   ],
   "source": [
    "bayes_regressor.predict(np.array([[1, 18, 4, 4, 1985]]))"
   ]
  },
  {
   "cell_type": "code",
   "execution_count": 11,
   "id": "c2ce75f4-30a3-487c-b92b-6a5eae7197b5",
   "metadata": {},
   "outputs": [
    {
     "data": {
      "text/plain": [
       "array(['Women 100m Freestyle', 'Women 400m Freestyle',\n",
       "       'Women 100m Backstroke', 'Women 200m Breaststroke',\n",
       "       'Women 4x100m Freestyle Relay', 'Men 100m Freestyle',\n",
       "       'Men 400m Freestyle', 'Men 1500m Freestyle', 'Men 100m Backstroke',\n",
       "       'Men 200m Breaststroke', 'Men 4x200m Freestyle Relay',\n",
       "       'Women 100m Butterfly', 'Men 200m Butterfly',\n",
       "       'Women 4x100m Medley Relay', 'Men 4x100m Medley Relay',\n",
       "       'Women 400m Medley', 'Men 200m Backstroke', 'Men 400m Medley',\n",
       "       'Men 4x100m Freestyle Relay', 'Women 200m Freestyle',\n",
       "       'Women 800m Freestyle', 'Women 200m Backstroke',\n",
       "       'Women 100m Breaststroke', 'Women 200m Butterfly',\n",
       "       'Women 200m Medley', 'Men 200m Freestyle', 'Men 100m Breaststroke',\n",
       "       'Men 100m Butterfly', 'Men 200m Medley', 'Women 50m Freestyle',\n",
       "       'Women 4x200m Freestyle Relay', 'Men 50m Freestyle',\n",
       "       'Women 50m Backstroke', 'Women 50m Breaststroke',\n",
       "       'Women 50m Butterfly', 'Women 100m Medley', 'Men 50m Backstroke',\n",
       "       'Men 50m Breaststroke', 'Men 50m Butterfly', 'Men 100m Medley',\n",
       "       'Women 1500m Freestyle', 'Men 800m Freestyle',\n",
       "       'Women 1000m Freestyle', 'Men 1000m Freestyle',\n",
       "       'Mixed 4x50m Freestyle Relay', 'Mixed 4x50m Medley Relay',\n",
       "       'Mixed 4x100m Freestyle Relay', 'Mixed 4x100m Medley Relay',\n",
       "       'Women 4x50m Freestyle Relay', 'Women 4x50m Medley Relay',\n",
       "       'Men 4x50m Freestyle Relay', 'Men 4x50m Medley Relay'],\n",
       "      dtype=object)"
      ]
     },
     "execution_count": 11,
     "metadata": {},
     "output_type": "execute_result"
    }
   ],
   "source": [
    "results_df['DisciplineName'].unique()"
   ]
  },
  {
   "cell_type": "code",
   "execution_count": 13,
   "id": "d9865ec8-332a-4c4b-87b8-42fa15164541",
   "metadata": {},
   "outputs": [
    {
     "data": {
      "text/plain": [
       "count    17835.000000\n",
       "mean        25.943688\n",
       "std          4.985245\n",
       "min          0.000000\n",
       "25%         25.310000\n",
       "50%         26.150000\n",
       "75%         27.310000\n",
       "max         63.970000\n",
       "Name: Time_Seconds, dtype: float64"
      ]
     },
     "execution_count": 13,
     "metadata": {},
     "output_type": "execute_result"
    }
   ],
   "source": [
    "results_df_filtered = results_df.loc[ (results_df.DisciplineName == 'Women 50m Freestyle')] # (results_df.PhaseName == 'Finals') &\n",
    "results_df_filtered['Time_Seconds'].describe()"
   ]
  },
  {
   "cell_type": "code",
   "execution_count": 14,
   "id": "ba0e4a03-1ef0-4ee4-8105-0f6fea39478e",
   "metadata": {},
   "outputs": [
    {
     "data": {
      "text/plain": [
       "count    17327.000000\n",
       "mean        26.704316\n",
       "std          2.295244\n",
       "min         22.930000\n",
       "25%         25.390000\n",
       "50%         26.200000\n",
       "75%         27.360000\n",
       "max         63.970000\n",
       "Name: Time_Seconds, dtype: float64"
      ]
     },
     "execution_count": 14,
     "metadata": {},
     "output_type": "execute_result"
    }
   ],
   "source": [
    "results_df_filtered = results_df_filtered.loc[(results_df_filtered.Time_Seconds > 0) & (results_df_filtered.Time_Seconds <= 2000)]\n",
    "results_df_filtered['Time_Seconds'].describe()"
   ]
  },
  {
   "cell_type": "code",
   "execution_count": 15,
   "id": "04899721-a050-4001-969f-21773495d36b",
   "metadata": {},
   "outputs": [
    {
     "data": {
      "text/plain": [
       "<AxesSubplot:xlabel='Year', ylabel='Time_Seconds'>"
      ]
     },
     "execution_count": 15,
     "metadata": {},
     "output_type": "execute_result"
    },
    {
     "data": {
      "image/png": "[encoded data removed]",
      "text/plain": [
       "<Figure size 936x720 with 1 Axes>"
      ]
     },
     "metadata": {},
     "output_type": "display_data"
    }
   ],
   "source": [
    "sns.lineplot(data=results_df_filtered, x=\"Year\", y=\"Time_Seconds\")"
   ]
  },
  {
   "cell_type": "code",
   "execution_count": 16,
   "id": "5681e496-acea-4255-8b85-dea9449b11a3",
   "metadata": {},
   "outputs": [
    {
     "data": {
      "text/plain": [
       "<matplotlib.lines.Line2D at 0x7f870d0dd4f0>"
      ]
     },
     "execution_count": 16,
     "metadata": {},
     "output_type": "execute_result"
    },
    {
     "data": {
      "image/png": "[encoded data removed]",
      "text/plain": [
       "<Figure size 1080x360 with 1 Axes>"
      ]
     },
     "metadata": {},
     "output_type": "display_data"
    }
   ],
   "source": [
    "g = sns.displot(data=results_df_filtered, x='Time_Seconds', palette=\"crest\", fill=True,alpha=.7, linewidth=0,)\n",
    "g.fig.set_figwidth(15)\n",
    "g.fig.set_figheight(5)\n",
    "mean = results_df_filtered['Time_Seconds'].mean()\n",
    "plt.axvline(mean, color='r')"
   ]
  },
  {
   "cell_type": "code",
   "execution_count": 17,
   "id": "4ae5e10b-8db5-477d-956b-2227c6ef1c7b",
   "metadata": {},
   "outputs": [],
   "source": [
    "results_df_filtered_no_outliers = results_df_filtered[(np.abs(stats.zscore(results_df_filtered['Time_Seconds'])) < 3)]"
   ]
  },
  {
   "cell_type": "code",
   "execution_count": 18,
   "id": "b9575aef-f532-4f33-a4da-c23e6589bf56",
   "metadata": {},
   "outputs": [
    {
     "data": {
      "text/plain": [
       "<matplotlib.lines.Line2D at 0x7f870c026760>"
      ]
     },
     "execution_count": 18,
     "metadata": {},
     "output_type": "execute_result"
    },
    {
     "data": {
      "image/png": "[encoded data removed]",
      "text/plain": [
       "<Figure size 1080x360 with 1 Axes>"
      ]
     },
     "metadata": {},
     "output_type": "display_data"
    }
   ],
   "source": [
    "g = sns.displot(data=results_df_filtered_no_outliers, x='Time_Seconds', palette=\"crest\", fill=True,alpha=.7, linewidth=0,)\n",
    "g.fig.set_figwidth(15)\n",
    "g.fig.set_figheight(5)\n",
    "mean = results_df_filtered_no_outliers['Time_Seconds'].mean()\n",
    "plt.axvline(mean, color='r')"
   ]
  },
  {
   "cell_type": "code",
   "execution_count": null,
   "id": "b254ce40-e546-4fab-b3ce-5e44df9d8b08",
   "metadata": {},
   "outputs": [],
   "source": []
  }
 ],
 "metadata": {
  "kernelspec": {
   "display_name": "Python 3 (ipykernel)",
   "language": "python",
   "name": "python3"
  },
  "language_info": {
   "codemirror_mode": {
    "name": "ipython",
    "version": 3
   },
   "file_extension": ".py",
   "mimetype": "text/x-python",
   "name": "python",
   "nbconvert_exporter": "python",
   "pygments_lexer": "ipython3",
   "version": "3.8.10"
  }
 },
 "nbformat": 4,
 "nbformat_minor": 5
}
