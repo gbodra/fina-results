{
 "cells": [
  {
   "cell_type": "markdown",
   "id": "884499a0-bb9f-4c87-a189-9d8809b4c596",
   "metadata": {},
   "source": [
    "# FINA - Results Exploration"
   ]
  },
  {
   "cell_type": "code",
   "execution_count": 51,
   "id": "e6fed372-8ffb-49c6-862a-33a43ba1bb99",
   "metadata": {},
   "outputs": [],
   "source": [
    "import pandas as pd\n",
    "import seaborn as sns\n",
    "from tqdm import tqdm\n",
    "from datetime import datetime\n",
    "import matplotlib.pyplot as plt\n",
    "\n",
    "tqdm.pandas()\n",
    "sns.set(rc={'figure.figsize':(13,10)})"
   ]
  },
  {
   "cell_type": "code",
   "execution_count": 5,
   "id": "cc099f6f-9810-460a-819e-c65650989a7b",
   "metadata": {},
   "outputs": [
    {
     "name": "stdout",
     "output_type": "stream",
     "text": [
      "CPU times: user 8.57 s, sys: 822 ms, total: 9.39 s\n",
      "Wall time: 8.47 s\n"
     ]
    }
   ],
   "source": [
    "%%time\n",
    "results_df = pd.read_parquet('./data/results.parquet')\n",
    "results_df.fillna(0, inplace=True)"
   ]
  },
  {
   "cell_type": "code",
   "execution_count": 7,
   "id": "45ce2d31-4661-402d-b240-b8fbc80e0df9",
   "metadata": {},
   "outputs": [
    {
     "name": "stdout",
     "output_type": "stream",
     "text": [
      "CPU times: user 151 µs, sys: 0 ns, total: 151 µs\n",
      "Wall time: 158 µs\n"
     ]
    },
    {
     "data": {
      "text/html": [
       "<div>\n",
       "<style scoped>\n",
       "    .dataframe tbody tr th:only-of-type {\n",
       "        vertical-align: middle;\n",
       "    }\n",
       "\n",
       "    .dataframe tbody tr th {\n",
       "        vertical-align: top;\n",
       "    }\n",
       "\n",
       "    .dataframe thead th {\n",
       "        text-align: right;\n",
       "    }\n",
       "</style>\n",
       "<table border=\"1\" class=\"dataframe\">\n",
       "  <thead>\n",
       "    <tr style=\"text-align: right;\">\n",
       "      <th></th>\n",
       "      <th>DisciplineName</th>\n",
       "      <th>EventName</th>\n",
       "      <th>EventResultUtcDateTime</th>\n",
       "      <th>Gender</th>\n",
       "      <th>SportCode</th>\n",
       "      <th>IsSummary</th>\n",
       "      <th>Order</th>\n",
       "      <th>PhaseName</th>\n",
       "      <th>Results</th>\n",
       "      <th>AthleteResultAge</th>\n",
       "      <th>...</th>\n",
       "      <th>NATName</th>\n",
       "      <th>Points</th>\n",
       "      <th>Qualified</th>\n",
       "      <th>RT</th>\n",
       "      <th>Rank</th>\n",
       "      <th>RecordType</th>\n",
       "      <th>ResultId</th>\n",
       "      <th>Splits</th>\n",
       "      <th>Time</th>\n",
       "      <th>TimeBehind</th>\n",
       "    </tr>\n",
       "  </thead>\n",
       "  <tbody>\n",
       "    <tr>\n",
       "      <th>0</th>\n",
       "      <td>Women 100m Freestyle</td>\n",
       "      <td>Olympic Games Paris 1924</td>\n",
       "      <td>1924-07-20T13:00:00</td>\n",
       "      <td>Women</td>\n",
       "      <td>SW</td>\n",
       "      <td>False</td>\n",
       "      <td>0.0</td>\n",
       "      <td>Finals</td>\n",
       "      <td>{'AthleteResultAge': 17.0, 'BiographyId': None...</td>\n",
       "      <td>17.0</td>\n",
       "      <td>...</td>\n",
       "      <td>0</td>\n",
       "      <td>0.0</td>\n",
       "      <td>0</td>\n",
       "      <td>0</td>\n",
       "      <td>1.0</td>\n",
       "      <td>0</td>\n",
       "      <td>R1165798</td>\n",
       "      <td>[]</td>\n",
       "      <td>1:12.40</td>\n",
       "      <td>0</td>\n",
       "    </tr>\n",
       "    <tr>\n",
       "      <th>1</th>\n",
       "      <td>Women 100m Freestyle</td>\n",
       "      <td>Olympic Games Paris 1924</td>\n",
       "      <td>1924-07-20T13:00:00</td>\n",
       "      <td>Women</td>\n",
       "      <td>SW</td>\n",
       "      <td>False</td>\n",
       "      <td>0.0</td>\n",
       "      <td>Finals</td>\n",
       "      <td>{'AthleteResultAge': 18.0, 'BiographyId': None...</td>\n",
       "      <td>18.0</td>\n",
       "      <td>...</td>\n",
       "      <td>0</td>\n",
       "      <td>0.0</td>\n",
       "      <td>0</td>\n",
       "      <td>0</td>\n",
       "      <td>2.0</td>\n",
       "      <td>0</td>\n",
       "      <td>R1165764</td>\n",
       "      <td>[]</td>\n",
       "      <td>1:12.80</td>\n",
       "      <td>00.40</td>\n",
       "    </tr>\n",
       "    <tr>\n",
       "      <th>2</th>\n",
       "      <td>Women 100m Freestyle</td>\n",
       "      <td>Olympic Games Paris 1924</td>\n",
       "      <td>1924-07-20T13:00:00</td>\n",
       "      <td>Women</td>\n",
       "      <td>SW</td>\n",
       "      <td>False</td>\n",
       "      <td>0.0</td>\n",
       "      <td>Finals</td>\n",
       "      <td>{'AthleteResultAge': 18.0, 'BiographyId': None...</td>\n",
       "      <td>18.0</td>\n",
       "      <td>...</td>\n",
       "      <td>0</td>\n",
       "      <td>0.0</td>\n",
       "      <td>0</td>\n",
       "      <td>0</td>\n",
       "      <td>3.0</td>\n",
       "      <td>0</td>\n",
       "      <td>R1165709</td>\n",
       "      <td>[]</td>\n",
       "      <td>1:14.20</td>\n",
       "      <td>01.80</td>\n",
       "    </tr>\n",
       "    <tr>\n",
       "      <th>3</th>\n",
       "      <td>Women 100m Freestyle</td>\n",
       "      <td>Olympic Games Paris 1924</td>\n",
       "      <td>1924-07-20T13:00:00</td>\n",
       "      <td>Women</td>\n",
       "      <td>SW</td>\n",
       "      <td>False</td>\n",
       "      <td>0.0</td>\n",
       "      <td>Finals</td>\n",
       "      <td>{'AthleteResultAge': 24.0, 'BiographyId': None...</td>\n",
       "      <td>24.0</td>\n",
       "      <td>...</td>\n",
       "      <td>0</td>\n",
       "      <td>0.0</td>\n",
       "      <td>0</td>\n",
       "      <td>0</td>\n",
       "      <td>4.0</td>\n",
       "      <td>0</td>\n",
       "      <td>R1165829</td>\n",
       "      <td>[]</td>\n",
       "      <td>1:15.40</td>\n",
       "      <td>03.00</td>\n",
       "    </tr>\n",
       "    <tr>\n",
       "      <th>4</th>\n",
       "      <td>Women 100m Freestyle</td>\n",
       "      <td>Olympic Games Paris 1924</td>\n",
       "      <td>1924-07-20T13:00:00</td>\n",
       "      <td>Women</td>\n",
       "      <td>SW</td>\n",
       "      <td>False</td>\n",
       "      <td>0.0</td>\n",
       "      <td>Finals</td>\n",
       "      <td>{'AthleteResultAge': 17.0, 'BiographyId': None...</td>\n",
       "      <td>17.0</td>\n",
       "      <td>...</td>\n",
       "      <td>0</td>\n",
       "      <td>0.0</td>\n",
       "      <td>0</td>\n",
       "      <td>0</td>\n",
       "      <td>5.0</td>\n",
       "      <td>0</td>\n",
       "      <td>R1165001</td>\n",
       "      <td>[]</td>\n",
       "      <td>1:20.80</td>\n",
       "      <td>08.40</td>\n",
       "    </tr>\n",
       "  </tbody>\n",
       "</table>\n",
       "<p>5 rows × 27 columns</p>\n",
       "</div>"
      ],
      "text/plain": [
       "         DisciplineName                 EventName EventResultUtcDateTime  \\\n",
       "0  Women 100m Freestyle  Olympic Games Paris 1924    1924-07-20T13:00:00   \n",
       "1  Women 100m Freestyle  Olympic Games Paris 1924    1924-07-20T13:00:00   \n",
       "2  Women 100m Freestyle  Olympic Games Paris 1924    1924-07-20T13:00:00   \n",
       "3  Women 100m Freestyle  Olympic Games Paris 1924    1924-07-20T13:00:00   \n",
       "4  Women 100m Freestyle  Olympic Games Paris 1924    1924-07-20T13:00:00   \n",
       "\n",
       "  Gender SportCode IsSummary  Order PhaseName  \\\n",
       "0  Women        SW     False    0.0    Finals   \n",
       "1  Women        SW     False    0.0    Finals   \n",
       "2  Women        SW     False    0.0    Finals   \n",
       "3  Women        SW     False    0.0    Finals   \n",
       "4  Women        SW     False    0.0    Finals   \n",
       "\n",
       "                                             Results  AthleteResultAge  ...  \\\n",
       "0  {'AthleteResultAge': 17.0, 'BiographyId': None...              17.0  ...   \n",
       "1  {'AthleteResultAge': 18.0, 'BiographyId': None...              18.0  ...   \n",
       "2  {'AthleteResultAge': 18.0, 'BiographyId': None...              18.0  ...   \n",
       "3  {'AthleteResultAge': 24.0, 'BiographyId': None...              24.0  ...   \n",
       "4  {'AthleteResultAge': 17.0, 'BiographyId': None...              17.0  ...   \n",
       "\n",
       "  NATName Points  Qualified  RT Rank RecordType  ResultId Splits     Time  \\\n",
       "0       0    0.0          0   0  1.0          0  R1165798     []  1:12.40   \n",
       "1       0    0.0          0   0  2.0          0  R1165764     []  1:12.80   \n",
       "2       0    0.0          0   0  3.0          0  R1165709     []  1:14.20   \n",
       "3       0    0.0          0   0  4.0          0  R1165829     []  1:15.40   \n",
       "4       0    0.0          0   0  5.0          0  R1165001     []  1:20.80   \n",
       "\n",
       "  TimeBehind  \n",
       "0          0  \n",
       "1      00.40  \n",
       "2      01.80  \n",
       "3      03.00  \n",
       "4      08.40  \n",
       "\n",
       "[5 rows x 27 columns]"
      ]
     },
     "execution_count": 7,
     "metadata": {},
     "output_type": "execute_result"
    }
   ],
   "source": [
    "%%time\n",
    "results_df.head()"
   ]
  },
  {
   "cell_type": "code",
   "execution_count": 8,
   "id": "4a255503-7830-4f2f-9f68-ac8adf5e5bff",
   "metadata": {},
   "outputs": [
    {
     "data": {
      "text/plain": [
       "'1:12.40'"
      ]
     },
     "execution_count": 8,
     "metadata": {},
     "output_type": "execute_result"
    }
   ],
   "source": [
    "results_df['Time'][0]"
   ]
  },
  {
   "cell_type": "code",
   "execution_count": 9,
   "id": "e1a8ddd4-2d86-42d6-a6cb-3578f6e0b43f",
   "metadata": {},
   "outputs": [],
   "source": [
    "def to_seconds(result_time):\n",
    "    time_split = result_time.split(':')\n",
    "    total_seconds = 0\n",
    "    \n",
    "    if len(time_split) == 3:\n",
    "        total_seconds = float(time_split[0]) * 60 * 60\n",
    "        total_seconds += float(time_split[1]) * 60\n",
    "        total_seconds += float(time_split[2])\n",
    "        \n",
    "        return total_seconds\n",
    "    \n",
    "    if len(time_split) == 2:\n",
    "        total_seconds = float(time_split[0]) * 60\n",
    "        total_seconds += float(time_split[1])\n",
    "        \n",
    "        return total_seconds\n",
    "    \n",
    "    return float(result_time)"
   ]
  },
  {
   "cell_type": "code",
   "execution_count": 10,
   "id": "7c762470-a855-447e-86a0-e1dfe61eeadf",
   "metadata": {},
   "outputs": [
    {
     "name": "stdout",
     "output_type": "stream",
     "text": [
      "72.4\n",
      "59.0\n",
      "7853.0\n"
     ]
    }
   ],
   "source": [
    "print(to_seconds(results_df['Time'][0]))\n",
    "print(to_seconds('59.00'))\n",
    "print(to_seconds('2:10:53.00'))"
   ]
  },
  {
   "cell_type": "code",
   "execution_count": 11,
   "id": "34eaac04-4913-4fe2-9443-fc2f7417b723",
   "metadata": {},
   "outputs": [
    {
     "name": "stderr",
     "output_type": "stream",
     "text": [
      "100%|███████████████████████████████████████████████████████████████████████████████████████████| 465945/465945 [00:00<00:00, 589369.82it/s]\n"
     ]
    }
   ],
   "source": [
    "results_df['Time_Seconds'] = results_df['Time'].progress_apply(lambda x: to_seconds(str(x)))"
   ]
  },
  {
   "cell_type": "code",
   "execution_count": 13,
   "id": "c2ce75f4-30a3-487c-b92b-6a5eae7197b5",
   "metadata": {},
   "outputs": [
    {
     "data": {
      "text/html": [
       "<div>\n",
       "<style scoped>\n",
       "    .dataframe tbody tr th:only-of-type {\n",
       "        vertical-align: middle;\n",
       "    }\n",
       "\n",
       "    .dataframe tbody tr th {\n",
       "        vertical-align: top;\n",
       "    }\n",
       "\n",
       "    .dataframe thead th {\n",
       "        text-align: right;\n",
       "    }\n",
       "</style>\n",
       "<table border=\"1\" class=\"dataframe\">\n",
       "  <thead>\n",
       "    <tr style=\"text-align: right;\">\n",
       "      <th></th>\n",
       "      <th>DisciplineName</th>\n",
       "      <th>EventName</th>\n",
       "      <th>EventResultUtcDateTime</th>\n",
       "      <th>Gender</th>\n",
       "      <th>SportCode</th>\n",
       "      <th>IsSummary</th>\n",
       "      <th>Order</th>\n",
       "      <th>PhaseName</th>\n",
       "      <th>Results</th>\n",
       "      <th>AthleteResultAge</th>\n",
       "      <th>...</th>\n",
       "      <th>Points</th>\n",
       "      <th>Qualified</th>\n",
       "      <th>RT</th>\n",
       "      <th>Rank</th>\n",
       "      <th>RecordType</th>\n",
       "      <th>ResultId</th>\n",
       "      <th>Splits</th>\n",
       "      <th>Time</th>\n",
       "      <th>TimeBehind</th>\n",
       "      <th>Time_Seconds</th>\n",
       "    </tr>\n",
       "  </thead>\n",
       "  <tbody>\n",
       "    <tr>\n",
       "      <th>0</th>\n",
       "      <td>Women 100m Freestyle</td>\n",
       "      <td>Olympic Games Paris 1924</td>\n",
       "      <td>1924-07-20T13:00:00</td>\n",
       "      <td>Women</td>\n",
       "      <td>SW</td>\n",
       "      <td>False</td>\n",
       "      <td>0.0</td>\n",
       "      <td>Finals</td>\n",
       "      <td>{'AthleteResultAge': 17.0, 'BiographyId': None...</td>\n",
       "      <td>17.0</td>\n",
       "      <td>...</td>\n",
       "      <td>0.0</td>\n",
       "      <td>0</td>\n",
       "      <td>0</td>\n",
       "      <td>1.0</td>\n",
       "      <td>0</td>\n",
       "      <td>R1165798</td>\n",
       "      <td>[]</td>\n",
       "      <td>1:12.40</td>\n",
       "      <td>0</td>\n",
       "      <td>72.4</td>\n",
       "    </tr>\n",
       "    <tr>\n",
       "      <th>1</th>\n",
       "      <td>Women 100m Freestyle</td>\n",
       "      <td>Olympic Games Paris 1924</td>\n",
       "      <td>1924-07-20T13:00:00</td>\n",
       "      <td>Women</td>\n",
       "      <td>SW</td>\n",
       "      <td>False</td>\n",
       "      <td>0.0</td>\n",
       "      <td>Finals</td>\n",
       "      <td>{'AthleteResultAge': 18.0, 'BiographyId': None...</td>\n",
       "      <td>18.0</td>\n",
       "      <td>...</td>\n",
       "      <td>0.0</td>\n",
       "      <td>0</td>\n",
       "      <td>0</td>\n",
       "      <td>2.0</td>\n",
       "      <td>0</td>\n",
       "      <td>R1165764</td>\n",
       "      <td>[]</td>\n",
       "      <td>1:12.80</td>\n",
       "      <td>00.40</td>\n",
       "      <td>72.8</td>\n",
       "    </tr>\n",
       "    <tr>\n",
       "      <th>2</th>\n",
       "      <td>Women 100m Freestyle</td>\n",
       "      <td>Olympic Games Paris 1924</td>\n",
       "      <td>1924-07-20T13:00:00</td>\n",
       "      <td>Women</td>\n",
       "      <td>SW</td>\n",
       "      <td>False</td>\n",
       "      <td>0.0</td>\n",
       "      <td>Finals</td>\n",
       "      <td>{'AthleteResultAge': 18.0, 'BiographyId': None...</td>\n",
       "      <td>18.0</td>\n",
       "      <td>...</td>\n",
       "      <td>0.0</td>\n",
       "      <td>0</td>\n",
       "      <td>0</td>\n",
       "      <td>3.0</td>\n",
       "      <td>0</td>\n",
       "      <td>R1165709</td>\n",
       "      <td>[]</td>\n",
       "      <td>1:14.20</td>\n",
       "      <td>01.80</td>\n",
       "      <td>74.2</td>\n",
       "    </tr>\n",
       "    <tr>\n",
       "      <th>3</th>\n",
       "      <td>Women 100m Freestyle</td>\n",
       "      <td>Olympic Games Paris 1924</td>\n",
       "      <td>1924-07-20T13:00:00</td>\n",
       "      <td>Women</td>\n",
       "      <td>SW</td>\n",
       "      <td>False</td>\n",
       "      <td>0.0</td>\n",
       "      <td>Finals</td>\n",
       "      <td>{'AthleteResultAge': 24.0, 'BiographyId': None...</td>\n",
       "      <td>24.0</td>\n",
       "      <td>...</td>\n",
       "      <td>0.0</td>\n",
       "      <td>0</td>\n",
       "      <td>0</td>\n",
       "      <td>4.0</td>\n",
       "      <td>0</td>\n",
       "      <td>R1165829</td>\n",
       "      <td>[]</td>\n",
       "      <td>1:15.40</td>\n",
       "      <td>03.00</td>\n",
       "      <td>75.4</td>\n",
       "    </tr>\n",
       "    <tr>\n",
       "      <th>4</th>\n",
       "      <td>Women 100m Freestyle</td>\n",
       "      <td>Olympic Games Paris 1924</td>\n",
       "      <td>1924-07-20T13:00:00</td>\n",
       "      <td>Women</td>\n",
       "      <td>SW</td>\n",
       "      <td>False</td>\n",
       "      <td>0.0</td>\n",
       "      <td>Finals</td>\n",
       "      <td>{'AthleteResultAge': 17.0, 'BiographyId': None...</td>\n",
       "      <td>17.0</td>\n",
       "      <td>...</td>\n",
       "      <td>0.0</td>\n",
       "      <td>0</td>\n",
       "      <td>0</td>\n",
       "      <td>5.0</td>\n",
       "      <td>0</td>\n",
       "      <td>R1165001</td>\n",
       "      <td>[]</td>\n",
       "      <td>1:20.80</td>\n",
       "      <td>08.40</td>\n",
       "      <td>80.8</td>\n",
       "    </tr>\n",
       "  </tbody>\n",
       "</table>\n",
       "<p>5 rows × 28 columns</p>\n",
       "</div>"
      ],
      "text/plain": [
       "         DisciplineName                 EventName EventResultUtcDateTime  \\\n",
       "0  Women 100m Freestyle  Olympic Games Paris 1924    1924-07-20T13:00:00   \n",
       "1  Women 100m Freestyle  Olympic Games Paris 1924    1924-07-20T13:00:00   \n",
       "2  Women 100m Freestyle  Olympic Games Paris 1924    1924-07-20T13:00:00   \n",
       "3  Women 100m Freestyle  Olympic Games Paris 1924    1924-07-20T13:00:00   \n",
       "4  Women 100m Freestyle  Olympic Games Paris 1924    1924-07-20T13:00:00   \n",
       "\n",
       "  Gender SportCode IsSummary  Order PhaseName  \\\n",
       "0  Women        SW     False    0.0    Finals   \n",
       "1  Women        SW     False    0.0    Finals   \n",
       "2  Women        SW     False    0.0    Finals   \n",
       "3  Women        SW     False    0.0    Finals   \n",
       "4  Women        SW     False    0.0    Finals   \n",
       "\n",
       "                                             Results  AthleteResultAge  ...  \\\n",
       "0  {'AthleteResultAge': 17.0, 'BiographyId': None...              17.0  ...   \n",
       "1  {'AthleteResultAge': 18.0, 'BiographyId': None...              18.0  ...   \n",
       "2  {'AthleteResultAge': 18.0, 'BiographyId': None...              18.0  ...   \n",
       "3  {'AthleteResultAge': 24.0, 'BiographyId': None...              24.0  ...   \n",
       "4  {'AthleteResultAge': 17.0, 'BiographyId': None...              17.0  ...   \n",
       "\n",
       "  Points Qualified  RT  Rank RecordType  ResultId Splits     Time  TimeBehind  \\\n",
       "0    0.0         0   0   1.0          0  R1165798     []  1:12.40           0   \n",
       "1    0.0         0   0   2.0          0  R1165764     []  1:12.80       00.40   \n",
       "2    0.0         0   0   3.0          0  R1165709     []  1:14.20       01.80   \n",
       "3    0.0         0   0   4.0          0  R1165829     []  1:15.40       03.00   \n",
       "4    0.0         0   0   5.0          0  R1165001     []  1:20.80       08.40   \n",
       "\n",
       "  Time_Seconds  \n",
       "0         72.4  \n",
       "1         72.8  \n",
       "2         74.2  \n",
       "3         75.4  \n",
       "4         80.8  \n",
       "\n",
       "[5 rows x 28 columns]"
      ]
     },
     "execution_count": 13,
     "metadata": {},
     "output_type": "execute_result"
    }
   ],
   "source": [
    "results_df.head()"
   ]
  },
  {
   "cell_type": "code",
   "execution_count": 23,
   "id": "08524bac-2efc-4021-9baa-96a6cf966169",
   "metadata": {},
   "outputs": [
    {
     "data": {
      "text/plain": [
       "<seaborn.axisgrid.FacetGrid at 0x7fc5e7a45a30>"
      ]
     },
     "execution_count": 23,
     "metadata": {},
     "output_type": "execute_result"
    },
    {
     "data": {
      "image/png": "[encoded data removed]",
      "text/plain": [
       "<Figure size 360x360 with 1 Axes>"
      ]
     },
     "metadata": {},
     "output_type": "display_data"
    }
   ],
   "source": [
    "sns.displot(results_df, x=\"Time_Seconds\", palette=\"crest\", fill=True, alpha=.7, linewidth=0)"
   ]
  },
  {
   "cell_type": "code",
   "execution_count": 65,
   "id": "d9865ec8-332a-4c4b-87b8-42fa15164541",
   "metadata": {},
   "outputs": [
    {
     "name": "stderr",
     "output_type": "stream",
     "text": [
      "/tmp/ipykernel_109967/1999655644.py:2: SettingWithCopyWarning: \n",
      "A value is trying to be set on a copy of a slice from a DataFrame.\n",
      "Try using .loc[row_indexer,col_indexer] = value instead\n",
      "\n",
      "See the caveats in the documentation: https://pandas.pydata.org/pandas-docs/stable/user_guide/indexing.html#returning-a-view-versus-a-copy\n",
      "  results_df_filtered['Year'] = pd.DatetimeIndex(pd.to_datetime(results_df_filtered.EventResultUtcDateTime, infer_datetime_format=True)).year\n"
     ]
    },
    {
     "data": {
      "text/plain": [
       "2374"
      ]
     },
     "execution_count": 65,
     "metadata": {},
     "output_type": "execute_result"
    }
   ],
   "source": [
    "results_df_filtered = results_df.loc[(results_df.PhaseName == 'Finals') & (results_df.DisciplineName == 'Women 100m Freestyle')] # & (results_df.EventName == 'Olympic Games Paris 1924')\n",
    "results_df_filtered['Year'] = pd.DatetimeIndex(pd.to_datetime(results_df_filtered.EventResultUtcDateTime, infer_datetime_format=True)).year\n",
    "results_df_filtered.shape[0]"
   ]
  },
  {
   "cell_type": "code",
   "execution_count": 66,
   "id": "d187c4d5-1721-4664-bb37-78cda883f76c",
   "metadata": {},
   "outputs": [
    {
     "data": {
      "text/html": [
       "<div>\n",
       "<style scoped>\n",
       "    .dataframe tbody tr th:only-of-type {\n",
       "        vertical-align: middle;\n",
       "    }\n",
       "\n",
       "    .dataframe tbody tr th {\n",
       "        vertical-align: top;\n",
       "    }\n",
       "\n",
       "    .dataframe thead th {\n",
       "        text-align: right;\n",
       "    }\n",
       "</style>\n",
       "<table border=\"1\" class=\"dataframe\">\n",
       "  <thead>\n",
       "    <tr style=\"text-align: right;\">\n",
       "      <th></th>\n",
       "      <th>DisciplineName</th>\n",
       "      <th>EventName</th>\n",
       "      <th>EventResultUtcDateTime</th>\n",
       "      <th>Gender</th>\n",
       "      <th>SportCode</th>\n",
       "      <th>IsSummary</th>\n",
       "      <th>Order</th>\n",
       "      <th>PhaseName</th>\n",
       "      <th>Results</th>\n",
       "      <th>AthleteResultAge</th>\n",
       "      <th>...</th>\n",
       "      <th>Qualified</th>\n",
       "      <th>RT</th>\n",
       "      <th>Rank</th>\n",
       "      <th>RecordType</th>\n",
       "      <th>ResultId</th>\n",
       "      <th>Splits</th>\n",
       "      <th>Time</th>\n",
       "      <th>TimeBehind</th>\n",
       "      <th>Time_Seconds</th>\n",
       "      <th>Year</th>\n",
       "    </tr>\n",
       "  </thead>\n",
       "  <tbody>\n",
       "    <tr>\n",
       "      <th>0</th>\n",
       "      <td>Women 100m Freestyle</td>\n",
       "      <td>Olympic Games Paris 1924</td>\n",
       "      <td>1924-07-20T13:00:00</td>\n",
       "      <td>Women</td>\n",
       "      <td>SW</td>\n",
       "      <td>False</td>\n",
       "      <td>0.0</td>\n",
       "      <td>Finals</td>\n",
       "      <td>{'AthleteResultAge': 17.0, 'BiographyId': None...</td>\n",
       "      <td>17.0</td>\n",
       "      <td>...</td>\n",
       "      <td>0</td>\n",
       "      <td>0</td>\n",
       "      <td>1.0</td>\n",
       "      <td>0</td>\n",
       "      <td>R1165798</td>\n",
       "      <td>[]</td>\n",
       "      <td>1:12.40</td>\n",
       "      <td>0</td>\n",
       "      <td>72.4</td>\n",
       "      <td>1924</td>\n",
       "    </tr>\n",
       "    <tr>\n",
       "      <th>1</th>\n",
       "      <td>Women 100m Freestyle</td>\n",
       "      <td>Olympic Games Paris 1924</td>\n",
       "      <td>1924-07-20T13:00:00</td>\n",
       "      <td>Women</td>\n",
       "      <td>SW</td>\n",
       "      <td>False</td>\n",
       "      <td>0.0</td>\n",
       "      <td>Finals</td>\n",
       "      <td>{'AthleteResultAge': 18.0, 'BiographyId': None...</td>\n",
       "      <td>18.0</td>\n",
       "      <td>...</td>\n",
       "      <td>0</td>\n",
       "      <td>0</td>\n",
       "      <td>2.0</td>\n",
       "      <td>0</td>\n",
       "      <td>R1165764</td>\n",
       "      <td>[]</td>\n",
       "      <td>1:12.80</td>\n",
       "      <td>00.40</td>\n",
       "      <td>72.8</td>\n",
       "      <td>1924</td>\n",
       "    </tr>\n",
       "    <tr>\n",
       "      <th>2</th>\n",
       "      <td>Women 100m Freestyle</td>\n",
       "      <td>Olympic Games Paris 1924</td>\n",
       "      <td>1924-07-20T13:00:00</td>\n",
       "      <td>Women</td>\n",
       "      <td>SW</td>\n",
       "      <td>False</td>\n",
       "      <td>0.0</td>\n",
       "      <td>Finals</td>\n",
       "      <td>{'AthleteResultAge': 18.0, 'BiographyId': None...</td>\n",
       "      <td>18.0</td>\n",
       "      <td>...</td>\n",
       "      <td>0</td>\n",
       "      <td>0</td>\n",
       "      <td>3.0</td>\n",
       "      <td>0</td>\n",
       "      <td>R1165709</td>\n",
       "      <td>[]</td>\n",
       "      <td>1:14.20</td>\n",
       "      <td>01.80</td>\n",
       "      <td>74.2</td>\n",
       "      <td>1924</td>\n",
       "    </tr>\n",
       "    <tr>\n",
       "      <th>3</th>\n",
       "      <td>Women 100m Freestyle</td>\n",
       "      <td>Olympic Games Paris 1924</td>\n",
       "      <td>1924-07-20T13:00:00</td>\n",
       "      <td>Women</td>\n",
       "      <td>SW</td>\n",
       "      <td>False</td>\n",
       "      <td>0.0</td>\n",
       "      <td>Finals</td>\n",
       "      <td>{'AthleteResultAge': 24.0, 'BiographyId': None...</td>\n",
       "      <td>24.0</td>\n",
       "      <td>...</td>\n",
       "      <td>0</td>\n",
       "      <td>0</td>\n",
       "      <td>4.0</td>\n",
       "      <td>0</td>\n",
       "      <td>R1165829</td>\n",
       "      <td>[]</td>\n",
       "      <td>1:15.40</td>\n",
       "      <td>03.00</td>\n",
       "      <td>75.4</td>\n",
       "      <td>1924</td>\n",
       "    </tr>\n",
       "    <tr>\n",
       "      <th>4</th>\n",
       "      <td>Women 100m Freestyle</td>\n",
       "      <td>Olympic Games Paris 1924</td>\n",
       "      <td>1924-07-20T13:00:00</td>\n",
       "      <td>Women</td>\n",
       "      <td>SW</td>\n",
       "      <td>False</td>\n",
       "      <td>0.0</td>\n",
       "      <td>Finals</td>\n",
       "      <td>{'AthleteResultAge': 17.0, 'BiographyId': None...</td>\n",
       "      <td>17.0</td>\n",
       "      <td>...</td>\n",
       "      <td>0</td>\n",
       "      <td>0</td>\n",
       "      <td>5.0</td>\n",
       "      <td>0</td>\n",
       "      <td>R1165001</td>\n",
       "      <td>[]</td>\n",
       "      <td>1:20.80</td>\n",
       "      <td>08.40</td>\n",
       "      <td>80.8</td>\n",
       "      <td>1924</td>\n",
       "    </tr>\n",
       "  </tbody>\n",
       "</table>\n",
       "<p>5 rows × 29 columns</p>\n",
       "</div>"
      ],
      "text/plain": [
       "         DisciplineName                 EventName EventResultUtcDateTime  \\\n",
       "0  Women 100m Freestyle  Olympic Games Paris 1924    1924-07-20T13:00:00   \n",
       "1  Women 100m Freestyle  Olympic Games Paris 1924    1924-07-20T13:00:00   \n",
       "2  Women 100m Freestyle  Olympic Games Paris 1924    1924-07-20T13:00:00   \n",
       "3  Women 100m Freestyle  Olympic Games Paris 1924    1924-07-20T13:00:00   \n",
       "4  Women 100m Freestyle  Olympic Games Paris 1924    1924-07-20T13:00:00   \n",
       "\n",
       "  Gender SportCode IsSummary  Order PhaseName  \\\n",
       "0  Women        SW     False    0.0    Finals   \n",
       "1  Women        SW     False    0.0    Finals   \n",
       "2  Women        SW     False    0.0    Finals   \n",
       "3  Women        SW     False    0.0    Finals   \n",
       "4  Women        SW     False    0.0    Finals   \n",
       "\n",
       "                                             Results  AthleteResultAge  ...  \\\n",
       "0  {'AthleteResultAge': 17.0, 'BiographyId': None...              17.0  ...   \n",
       "1  {'AthleteResultAge': 18.0, 'BiographyId': None...              18.0  ...   \n",
       "2  {'AthleteResultAge': 18.0, 'BiographyId': None...              18.0  ...   \n",
       "3  {'AthleteResultAge': 24.0, 'BiographyId': None...              24.0  ...   \n",
       "4  {'AthleteResultAge': 17.0, 'BiographyId': None...              17.0  ...   \n",
       "\n",
       "  Qualified RT  Rank  RecordType  ResultId Splits     Time TimeBehind  \\\n",
       "0         0  0   1.0           0  R1165798     []  1:12.40          0   \n",
       "1         0  0   2.0           0  R1165764     []  1:12.80      00.40   \n",
       "2         0  0   3.0           0  R1165709     []  1:14.20      01.80   \n",
       "3         0  0   4.0           0  R1165829     []  1:15.40      03.00   \n",
       "4         0  0   5.0           0  R1165001     []  1:20.80      08.40   \n",
       "\n",
       "   Time_Seconds  Year  \n",
       "0          72.4  1924  \n",
       "1          72.8  1924  \n",
       "2          74.2  1924  \n",
       "3          75.4  1924  \n",
       "4          80.8  1924  \n",
       "\n",
       "[5 rows x 29 columns]"
      ]
     },
     "execution_count": 66,
     "metadata": {},
     "output_type": "execute_result"
    }
   ],
   "source": [
    "results_df_filtered.head()"
   ]
  },
  {
   "cell_type": "code",
   "execution_count": 67,
   "id": "14686178-8689-4941-b60d-0d33973e34c0",
   "metadata": {},
   "outputs": [
    {
     "data": {
      "text/plain": [
       "count    2374.000000\n",
       "mean       55.241028\n",
       "std         4.344810\n",
       "min         0.000000\n",
       "25%        53.920000\n",
       "50%        55.150000\n",
       "75%        56.407500\n",
       "max        80.800000\n",
       "Name: Time_Seconds, dtype: float64"
      ]
     },
     "execution_count": 67,
     "metadata": {},
     "output_type": "execute_result"
    }
   ],
   "source": [
    "results_df_filtered['Time_Seconds'].describe()"
   ]
  },
  {
   "cell_type": "code",
   "execution_count": 68,
   "id": "ba0e4a03-1ef0-4ee4-8105-0f6fea39478e",
   "metadata": {},
   "outputs": [
    {
     "data": {
      "text/plain": [
       "count    2365.000000\n",
       "mean       55.451247\n",
       "std         2.699515\n",
       "min        50.580000\n",
       "25%        53.940000\n",
       "50%        55.150000\n",
       "75%        56.410000\n",
       "max        80.800000\n",
       "Name: Time_Seconds, dtype: float64"
      ]
     },
     "execution_count": 68,
     "metadata": {},
     "output_type": "execute_result"
    }
   ],
   "source": [
    "results_df_filtered = results_df_filtered.loc[(results_df_filtered.Time_Seconds > 0) & (results_df_filtered.Time_Seconds <= 2000)]\n",
    "results_df_filtered['Time_Seconds'].describe()"
   ]
  },
  {
   "cell_type": "code",
   "execution_count": 63,
   "id": "f1db04bc-ea4b-433c-9026-63af29cc9749",
   "metadata": {},
   "outputs": [
    {
     "name": "stdout",
     "output_type": "stream",
     "text": [
      "CPU times: user 13.7 s, sys: 358 ms, total: 14.1 s\n",
      "Wall time: 13.5 s\n"
     ]
    },
    {
     "data": {
      "text/plain": [
       "<matplotlib.lines.Line2D at 0x7fc5c0026f40>"
      ]
     },
     "execution_count": 63,
     "metadata": {},
     "output_type": "execute_result"
    },
    {
     "data": {
      "image/png": "[encoded data removed]",
      "text/plain": [
       "<Figure size 427.6x360 with 1 Axes>"
      ]
     },
     "metadata": {},
     "output_type": "display_data"
    }
   ],
   "source": [
    "%%time\n",
    "sns.displot(results_df_filtered, x=\"Time_Seconds\", hue=\"Year\", palette=\"crest\", fill=True, alpha=.7, linewidth=0)\n",
    "mean = results_df_filtered['Time_Seconds'].mean()\n",
    "plt.axvline(mean)"
   ]
  },
  {
   "cell_type": "code",
   "execution_count": 69,
   "id": "04899721-a050-4001-969f-21773495d36b",
   "metadata": {},
   "outputs": [
    {
     "data": {
      "text/plain": [
       "<AxesSubplot:xlabel='Year', ylabel='Time_Seconds'>"
      ]
     },
     "execution_count": 69,
     "metadata": {},
     "output_type": "execute_result"
    },
    {
     "data": {
      "image/png": "[encoded data removed]",
      "text/plain": [
       "<Figure size 936x720 with 1 Axes>"
      ]
     },
     "metadata": {},
     "output_type": "display_data"
    }
   ],
   "source": [
    "sns.lineplot(data=results_df_filtered, x=\"Year\", y=\"Time_Seconds\")"
   ]
  },
  {
   "cell_type": "code",
   "execution_count": null,
   "id": "5681e496-acea-4255-8b85-dea9449b11a3",
   "metadata": {},
   "outputs": [],
   "source": []
  }
 ],
 "metadata": {
  "kernelspec": {
   "display_name": "Python 3 (ipykernel)",
   "language": "python",
   "name": "python3"
  },
  "language_info": {
   "codemirror_mode": {
    "name": "ipython",
    "version": 3
   },
   "file_extension": ".py",
   "mimetype": "text/x-python",
   "name": "python",
   "nbconvert_exporter": "python",
   "pygments_lexer": "ipython3",
   "version": "3.8.10"
  }
 },
 "nbformat": 4,
 "nbformat_minor": 5
}
